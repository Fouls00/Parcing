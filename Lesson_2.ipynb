{
 "cells": [
  {
   "cell_type": "markdown",
   "id": "707e2509",
   "metadata": {},
   "source": [
    "#### Урок 2. Парсинг данных. HTML, DOM, XPath\n",
    "Написать приложение и функцию, которые собирают основные новости с сайта на выбор dzen.ru, lenta.ru, mail.ru . Для парсинга использовать XPath\n",
    "Структура данных должна содержать:\n",
    "* название источника\n",
    "* наименование новости\n",
    "* ссылку на новость\n",
    "* дата публикации\n",
    "\n",
    "минимум один сайт максимум все\n",
    "\n",
    "Задание считается выполненным, если:\n",
    "- код задокументирован, парсер работает корректно\n",
    "- репозиторий в github имеет readme.md с описанием и структурой проекта (если сдача github, gitlab )\n",
    "- есть скриншоты результата выполнения задания"
   ]
  },
  {
   "cell_type": "code",
   "execution_count": 2,
   "id": "69177abf",
   "metadata": {},
   "outputs": [],
   "source": [
    "from pprint import pprint\n",
    "import requests\n",
    "from lxml import html\n",
    "import datetime"
   ]
  },
  {
   "cell_type": "code",
   "execution_count": 3,
   "id": "699664ee",
   "metadata": {},
   "outputs": [],
   "source": [
    "my_headers = {'User-Agent': 'Mozilla/5.0 (Windows NT 10.0; Win64; x64) AppleWebKit/537.36 (KHTML, like Gecko) Chrome/110.0.0.0 Safari/537.36'}"
   ]
  },
  {
   "cell_type": "code",
   "execution_count": 4,
   "id": "31282049",
   "metadata": {},
   "outputs": [],
   "source": [
    "def requests_mail_news():\n",
    "    url = 'https://news.mail.ru/'\n",
    "    response = requests.get(f'{url}', headers=my_headers)\n",
    "    root = html.fromstring(response.text)\n",
    "    news_block= root.xpath(\"//div[contains(@class,'daynews__')]/a | //ul[@data-module='TrackBlocks']/li[@class='list__item']/a\")\n",
    "    base_news = []\n",
    "\n",
    "    for i, item in enumerate(news_block, 1):\n",
    "        news = {}\n",
    "        if i < 6:\n",
    "            name_news = item.xpath(\".//span[contains(@class, 'photo__title')]/text()\")\n",
    "        else:\n",
    "            name_news = item.xpath(\".//text()\")\n",
    "        link_news = item.xpath(\".//@href\")\n",
    "        response_2 = requests.get(link_news[0], headers=my_headers)\n",
    "        dom = html.fromstring(response_2.text)\n",
    "        name_source = dom.xpath(\"//span[contains(@class, 'breadcrumbs__item')]//a//text()\")\n",
    "        date_news_info = dom.xpath(\"//span[contains(@class, 'breadcrumbs__item')]//span[contains(@class, 'note__text')]/@datetime\")\n",
    "        date_news = date_news_info[0][:10].split('-')\n",
    "        date_news = datetime.date(int(date_news[0]), int(date_news[1]), int(date_news[2])).strftime('%d.%m.%Y')\n",
    "        news['name_source'] = name_source[0]\n",
    "        news['name_news'] = name_news[0].replace(u'\\xa0', ' ')\n",
    "        news['link_news'] = link_news[0]\n",
    "        news['date_news'] = date_news\n",
    "        base_news.append(news)\n",
    "\n",
    "    return base_news"
   ]
  },
  {
   "cell_type": "code",
   "execution_count": 8,
   "id": "73aa19b2",
   "metadata": {},
   "outputs": [],
   "source": [
    "mail_news = requests_mail_news()"
   ]
  }
 ],
 "metadata": {
  "kernelspec": {
   "display_name": "Python 3 (ipykernel)",
   "language": "python",
   "name": "python3"
  },
  "language_info": {
   "codemirror_mode": {
    "name": "ipython",
    "version": 3
   },
   "file_extension": ".py",
   "mimetype": "text/x-python",
   "name": "python",
   "nbconvert_exporter": "python",
   "pygments_lexer": "ipython3",
   "version": "3.9.12"
  }
 },
 "nbformat": 4,
 "nbformat_minor": 5
}
