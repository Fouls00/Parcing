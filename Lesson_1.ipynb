{
 "cells": [
  {
   "cell_type": "markdown",
   "id": "350e30fb",
   "metadata": {},
   "source": [
    "### Урок 1. Основы клиент-серверного взаимодействия. Работа с API\n",
    "\n",
    "#### 1. Посмотреть документацию к API GitHub, разобраться как вывести список репозиториев для конкретного пользователя, сохранить JSON-вывод в файле *.json."
   ]
  },
  {
   "cell_type": "code",
   "execution_count": 38,
   "id": "cff67f1b",
   "metadata": {},
   "outputs": [],
   "source": [
    "import requests\n",
    "import json"
   ]
  },
  {
   "cell_type": "code",
   "execution_count": 4,
   "id": "1937d294",
   "metadata": {},
   "outputs": [],
   "source": [
    "url = 'https://api.github.com'\n",
    "user='Fouls00'"
   ]
  },
  {
   "cell_type": "code",
   "execution_count": 6,
   "id": "761bf71a",
   "metadata": {},
   "outputs": [],
   "source": [
    "r = requests.get(f'{url}/users/{user}/repos')"
   ]
  },
  {
   "cell_type": "code",
   "execution_count": 8,
   "id": "c8e458f5",
   "metadata": {},
   "outputs": [],
   "source": [
    "with open('data.json', 'w') as f:\n",
    "    json.dump(r.json(), f)"
   ]
  },
  {
   "cell_type": "code",
   "execution_count": 10,
   "id": "56d59d86",
   "metadata": {},
   "outputs": [
    {
     "name": "stdout",
     "output_type": "stream",
     "text": [
      "GeekBrains_Python\n",
      "Prob_Theory\n",
      "Python_DataScience\n"
     ]
    }
   ],
   "source": [
    "for i in r.json():\n",
    "    print(i['name'])"
   ]
  },
  {
   "cell_type": "markdown",
   "id": "eb1522d0",
   "metadata": {},
   "source": [
    "#### 2. Изучить список открытых API (https://www.programmableweb.com/category/all/apis). Найти среди них любое, требующее авторизацию (любого типа). Выполнить запросы к нему, пройдя авторизацию. Ответ сервера записать в файл."
   ]
  },
  {
   "cell_type": "code",
   "execution_count": 47,
   "id": "081d2199",
   "metadata": {},
   "outputs": [],
   "source": [
    "appid = '439d4b804bc8187953eb36d2a8c26a02'\n",
    "url = 'https://openweathermap.org/data/2.5/weather'\n",
    "city = 'Manchester'"
   ]
  },
  {
   "cell_type": "code",
   "execution_count": 48,
   "id": "88d1e3b8",
   "metadata": {},
   "outputs": [
    {
     "name": "stdout",
     "output_type": "stream",
     "text": [
      "{'coord': {'lon': -2.2374, 'lat': 53.4809}, 'weather': [{'id': 803, 'main': 'Clouds', 'description': 'broken clouds', 'icon': '04d'}], 'base': 'stations', 'main': {'temp': 7.63, 'feels_like': 5.03, 'temp_min': 6.33, 'temp_max': 9.07, 'pressure': 1031, 'humidity': 68}, 'visibility': 10000, 'wind': {'speed': 4.12, 'deg': 70}, 'clouds': {'all': 75}, 'dt': 1677415470, 'sys': {'type': 2, 'id': 2002511, 'country': 'GB', 'sunrise': 1677395086, 'sunset': 1677433165}, 'timezone': 0, 'id': 2643123, 'name': 'Manchester', 'cod': 200}\n"
     ]
    }
   ],
   "source": [
    "r = requests.get(f'{url}?q={city}&appid={appid}')\n",
    "print(r.json())"
   ]
  },
  {
   "cell_type": "code",
   "execution_count": 50,
   "id": "eddb822d",
   "metadata": {},
   "outputs": [],
   "source": [
    "params = {\n",
    "    'q': 'Manchester',\n",
    "    'appid': '439d4b804bc8187953eb36d2a8c26a02'\n",
    "}"
   ]
  },
  {
   "cell_type": "code",
   "execution_count": 51,
   "id": "78479862",
   "metadata": {},
   "outputs": [
    {
     "data": {
      "text/plain": [
       "200"
      ]
     },
     "execution_count": 51,
     "metadata": {},
     "output_type": "execute_result"
    }
   ],
   "source": [
    "url = 'https://openweathermap.org/data/2.5/weather'\n",
    "r = requests.get(url=url, params=params)\n",
    "r.status_code"
   ]
  },
  {
   "cell_type": "code",
   "execution_count": 52,
   "id": "3131ae45",
   "metadata": {},
   "outputs": [
    {
     "name": "stdout",
     "output_type": "stream",
     "text": [
      "{'coord': {'lon': -2.2374, 'lat': 53.4809}, 'weather': [{'id': 803, 'main': 'Clouds', 'description': 'broken clouds', 'icon': '04d'}], 'base': 'stations', 'main': {'temp': 7.63, 'feels_like': 5.03, 'temp_min': 6.33, 'temp_max': 9.07, 'pressure': 1031, 'humidity': 68}, 'visibility': 10000, 'wind': {'speed': 4.12, 'deg': 70}, 'clouds': {'all': 75}, 'dt': 1677415470, 'sys': {'type': 2, 'id': 2002511, 'country': 'GB', 'sunrise': 1677395086, 'sunset': 1677433165}, 'timezone': 0, 'id': 2643123, 'name': 'Manchester', 'cod': 200}\n"
     ]
    }
   ],
   "source": [
    "r = requests.get(url=url, params=params)\n",
    "print(r.json())"
   ]
  },
  {
   "cell_type": "code",
   "execution_count": 54,
   "id": "77a931c8",
   "metadata": {},
   "outputs": [
    {
     "name": "stdout",
     "output_type": "stream",
     "text": [
      "В городе Manchester 7.63 градусов по Цельсию\n"
     ]
    }
   ],
   "source": [
    "data = r.json()\n",
    "print(f\"В городе {data['name']} {data['main']['temp']} градусов по Цельсию\")"
   ]
  }
 ],
 "metadata": {
  "kernelspec": {
   "display_name": "Python 3 (ipykernel)",
   "language": "python",
   "name": "python3"
  },
  "language_info": {
   "codemirror_mode": {
    "name": "ipython",
    "version": 3
   },
   "file_extension": ".py",
   "mimetype": "text/x-python",
   "name": "python",
   "nbconvert_exporter": "python",
   "pygments_lexer": "ipython3",
   "version": "3.9.12"
  }
 },
 "nbformat": 4,
 "nbformat_minor": 5
}
